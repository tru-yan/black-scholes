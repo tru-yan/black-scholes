{
 "cells": [
  {
   "cell_type": "markdown",
   "metadata": {},
   "source": [
    "# BLACK SCHOLES PDE (1977, MYRON SCHOLES AND FISCHER BLACK)\n",
    "\n",
    "## ASSUMPTIONS\n",
    "\n",
    "1. SHORT TERM INTEREST RATES ARE CONSTANT\n",
    "2. STOCKS PAY NO DIVIDENDS\n",
    "3. NO TRANSACTION COSTS\n",
    "4. CAN BORROW FRACTION OF STOCK\n",
    "5. SHORT SELLING ALLOWED"
   ]
  },
  {
   "cell_type": "markdown",
   "metadata": {},
   "source": [
    "## METHOD OVERVIEW\n",
    "\n",
    "1. PRICE DERIVATIVE USING REPLICATION\n",
    "2. CONSTRUCT RISK FREE PORTFOLIO\n",
    "3. $C_t = C(S,t) \\space \\forall$ SMOOTH FUNCTIONS OF C\n",
    "   USE ITO'S RULE TO EXPRESS PORTFOLIO DRIFT AS C'S PARTIALS\n",
    "4. FIND $C(S,t)$ THAT SATISFIES PDE"
   ]
  },
  {
   "cell_type": "markdown",
   "metadata": {},
   "source": [
    "## CONSTRUCT PORTFOLIO WITH OPTION AND STOCKS\n",
    "\n",
    "1 OPTION, $-\\alpha_t$ SHARES\n",
    "\n",
    "$V_t = C_t - \\alpha S_t$\n",
    "\n",
    "$dV_t = dC_t - \\alpha_t dS_t$\n",
    "\n",
    "ASSUME UNDERLYING $\\rightarrow$ FOLLOWS GBM GEOMETRIC BROWNIAN MOTION\n",
    "\n",
    "$dS_t = \\mu S_tdt + \\sigma S_tdW_t$ (DRIFT + DIFFUSION)\n",
    "\n",
    "AS C_t = C(S_t,t)\n",
    "\n",
    "$\\partial C_t = \\frac{\\partial C_t}{\\partial t}dt + \\frac{\\partial C_t}{\\partial S}dS + \\frac{1}{2}(\\frac{\\partial^2 C}{\\partial S^2}dS^2 + \\frac{\\partial^2 C}{\\partial t^2}dt^2)$\n",
    "\n",
    "$\\partial C_t = \\frac{\\partial C_t}{\\partial t}dt + \\frac{\\partial C_t}{\\partial S}dS + \\frac{1}{2}\\frac{\\partial^2 C}{\\partial S^2}dS^2$\n",
    "\n",
    "$dV_t = \\frac{\\partial C_t}{\\partial t}dt + \\frac{\\partial C_t}{\\partial S}dS + \\frac{1}{2}\\frac{\\partial^2 C}{\\partial S^2}dS^2 - \\alpha dS_t$\n",
    "\n",
    "ASSUME $\\alpha = \\frac{\\partial C_t}{\\partial S}$; NUMBER OF SHARES HELD IN PORTFOLIO IS EQUIVALENT TO DELTA RISK FREE PORTFOLIO\n",
    "\n",
    "$\\star$ USING GBM \n",
    "\n",
    "$dS_t^2 = (\\mu S_tdt + \\sigma S_tdW)^2$\n",
    "\n",
    "$ = \\mu^2 S_t^2dt^2 + 2\\mu S_t^2dtdw + \\sigma^2 S_t^2dW^2$\n",
    "\n",
    "$ = \\sigma^2 S_t^2dW^2$\n",
    "\n",
    "$ = \\sigma^2 S_t^2dt$ (ITO'S CALCULUS: $dW^2 = dt$)\n",
    "\n",
    "$dS_t^2 = \\sigma^2 S_t^2dt$\n",
    "\n",
    "$dV_t = [\\frac{\\partial C_t}{\\partial t} + \\frac{1}{2}\\frac{\\partial^2 C}{\\partial S^2}\\alpha^2 S_t^2]dt$ "
   ]
  },
  {
   "cell_type": "markdown",
   "metadata": {},
   "source": [
    "## ARBITRAGE FREE PORTFOLIO\n",
    "(BANK ACCOUNT @ RATE r)\n",
    "\n",
    "$dV_t = rV_tdt$ where $dB_t=rB_tdt$\n",
    "\n",
    "$=r(C_t-\\alpha S_t)dt$\n",
    "\n",
    "$r(C_t-\\alpha S_t)dt=[\\frac{\\partial C_t}{\\partial t} + \\frac{1}{2}\\frac{\\partial^2 C}{\\partial S^2}\\alpha^2 S_t^2]dt$\n",
    "\n",
    "Delta $\\frac{\\partial C}{\\partial S}$\n",
    "\n",
    "REARRANGING; PDE IS \n",
    "\n",
    "$\\frac{\\partial C}{\\partial t} + \\frac{1}{2}\\frac{\\partial^2 C}{\\partial S^2}\\alpha^2 S_t^2 + rS_t\\frac{\\partial C}{\\partial S} = rC_t$\n",
    "\n",
    "BOUNDARY CONDITIONS\n",
    "\n",
    "@ EXPIRY PAYOFF OF CALL OPTION IS \n",
    "\n",
    "$C(S,t) = (S-K)^+ = max(0, S-K)$"
   ]
  }
 ],
 "metadata": {
  "interpreter": {
   "hash": "3479d38e61a21d7d51a3d2d14a546b69f78f96c30cd70a0ca21ec3ca882561f9"
  },
  "kernelspec": {
   "display_name": "Python 3.8.10 64-bit (windows store)",
   "language": "python",
   "name": "python3"
  },
  "language_info": {
   "codemirror_mode": {
    "name": "ipython",
    "version": 3
   },
   "file_extension": ".py",
   "mimetype": "text/x-python",
   "name": "python",
   "nbconvert_exporter": "python",
   "pygments_lexer": "ipython3",
   "version": "3.10.4"
  },
  "orig_nbformat": 4
 },
 "nbformat": 4,
 "nbformat_minor": 2
}
