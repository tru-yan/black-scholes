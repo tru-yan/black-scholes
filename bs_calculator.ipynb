{
 "cells": [
  {
   "cell_type": "markdown",
   "metadata": {},
   "source": [
    "Implementing the Black-Scholes formula in Python"
   ]
  },
  {
   "cell_type": "code",
   "execution_count": 1,
   "metadata": {},
   "outputs": [],
   "source": [
    "import numpy as np\n",
    "from scipy.stats import norm"
   ]
  },
  {
   "cell_type": "code",
   "execution_count": 2,
   "metadata": {},
   "outputs": [],
   "source": [
    "# define variables \n",
    "r = 0.01\n",
    "S = 30\n",
    "K = 40\n",
    "T = 240/365\n",
    "sigma = 0.30"
   ]
  },
  {
   "cell_type": "code",
   "execution_count": 3,
   "metadata": {},
   "outputs": [],
   "source": [
    "def blackScholes(r, S, K, T, sigma, type=\"C\"):\n",
    "    \"Calculate BS option price for a call/put\"\n",
    "    d1 = (np.log(S/K) + (r + sigma**2/2)*T)/(sigma*np.sqrt(T))\n",
    "    d2 = d1 - sigma*np.sqrt(T)\n",
    "    try: \n",
    "        if type == \"C\":\n",
    "            price = S*norm.cdf(d1, 0, 1) - K*np.exp(-r*T)*norm.cdf(d2, 0, 1)\n",
    "        elif type == \"P\":\n",
    "            price = K*np.exp(-r*T)*norm.cdf(-d2, 0, 1) - S*norm.cdf(-d1, 0, 1)\n",
    "        return price\n",
    "    except:\n",
    "        print(\"Please confirm all option parameters above!!!\")"
   ]
  },
  {
   "cell_type": "code",
   "execution_count": 7,
   "metadata": {},
   "outputs": [
    {
     "name": "stdout",
     "output_type": "stream",
     "text": [
      "Option Price is: 0.51\n"
     ]
    }
   ],
   "source": [
    "print(\"Option Price is:\", round(blackScholes(r, S, K, T, sigma, type=\"C\"), 2))"
   ]
  },
  {
   "cell_type": "code",
   "execution_count": 6,
   "metadata": {},
   "outputs": [
    {
     "name": "stdout",
     "output_type": "stream",
     "text": [
      "Option Price is: 10.25\n"
     ]
    }
   ],
   "source": [
    "print(\"Option Price is:\", round(blackScholes(r, S, K, T, sigma, type=\"P\"), 2))"
   ]
  }
 ],
 "metadata": {
  "interpreter": {
   "hash": "ea7c596da28a13baf3d2a378eb37ba72985c381a5bad1b79285092b827c7c2f6"
  },
  "kernelspec": {
   "display_name": "Python 3.10.4 64-bit",
   "language": "python",
   "name": "python3"
  },
  "language_info": {
   "codemirror_mode": {
    "name": "ipython",
    "version": 3
   },
   "file_extension": ".py",
   "mimetype": "text/x-python",
   "name": "python",
   "nbconvert_exporter": "python",
   "pygments_lexer": "ipython3",
   "version": "3.10.4"
  },
  "orig_nbformat": 4
 },
 "nbformat": 4,
 "nbformat_minor": 2
}
